{
 "cells": [
  {
   "cell_type": "code",
   "execution_count": 1,
   "metadata": {},
   "outputs": [],
   "source": [
    "from sklearn.datasets import fetch_20newsgroups\n",
    "\n",
    "newsgroups_train = fetch_20newsgroups(subset='train')"
   ]
  },
  {
   "cell_type": "code",
   "execution_count": 124,
   "metadata": {},
   "outputs": [
    {
     "name": "stdout",
     "output_type": "stream",
     "text": [
      "['alt.atheism', 'comp.graphics', 'comp.os.ms-windows.misc', 'comp.sys.ibm.pc.hardware', 'comp.sys.mac.hardware', 'comp.windows.x', 'misc.forsale', 'rec.autos', 'rec.motorcycles', 'rec.sport.baseball', 'rec.sport.hockey', 'sci.crypt', 'sci.electronics', 'sci.med', 'sci.space', 'soc.religion.christian', 'talk.politics.guns', 'talk.politics.mideast', 'talk.politics.misc', 'talk.religion.misc']\n",
      "From: lerxst@wam.umd.edu (where's my thing)\n",
      "Subject: WHAT car is this!?\n",
      "Nntp-Posting-Host: rac3.wam.umd.edu\n",
      "Organization: University of Maryland, College Park\n",
      "Lines: 15\n",
      "\n",
      " I was wondering if anyone out there could enlighten me on this car I saw\n",
      "the other day. It was a 2-door sports car, looked to be from the late 60s/\n",
      "early 70s. It was called a Bricklin. The doors were really small. In addition,\n",
      "the front bumper was separate from the rest of the body. This is \n",
      "all I know. If anyone can tellme a model name, engine specs, years\n",
      "of production, where this car is made, history, or whatever info you\n",
      "have on this funky looking car, please e-mail.\n",
      "\n",
      "Thanks,\n",
      "- IL\n",
      "   ---- brought to you by your neighborhood Lerxst ----\n",
      "\n",
      "\n",
      "\n",
      "\n",
      "\n"
     ]
    }
   ],
   "source": [
    "print(newsgroups_train.target_names)\n",
    "print(newsgroups_train.data[0])"
   ]
  },
  {
   "cell_type": "code",
   "execution_count": 127,
   "metadata": {},
   "outputs": [
    {
     "name": "stdout",
     "output_type": "stream",
     "text": [
      "Antal dokumenter i kategorien 'comp.graphics': 480\n",
      "Kategorier: ['alt.atheism']\n",
      "From: darice@yoyo.cc.monash.edu.au (Fred Rice)\n",
      "Subject: Re: Islam & Dress Code for women\n",
      "Organization: Monash University, Melb., Australia.\n",
      "Lines: 120\n",
      "\n",
      "In <16BA7103C3.I3150101@dbstu1.rz.tu-bs.de> I3150101@dbstu1.rz.tu-bs.de (Benedikt Rosenau) writes:\n",
      "\n",
      ">In article <1993Apr5.091258.11830@monu6.cc.monash.edu.au>\n",
      ">darice@yoyo.cc.monash.edu.au (Fred Rice) writes:\n",
      "> \n",
      ">(Deletion)\n",
      ">>>>Of course people say what they think to be the religion, and that this\n",
      ">>>>is not exactly the same coming from different people within the\n",
      ">>>>religion.  There is nothing with there existing different perspectives\n",
      ">>>>within the religion -- perhaps one can say that they tend to converge on\n",
      ">>>>the truth.\n",
      ">>\n",
      ">>>My point is that they are doing a lot of harm on the way in the meantime.\n",
      ">>>\n",
      ">>>And that they converge is counterfactual, religions appear to split and\n",
      ">>>diverge. Even when there might be a 'True Religion' at the core, the layers\n",
      ">>>above determine what happens in practise, and they are quite inhumane\n",
      ">>>usually.\n",
      ">>>\n",
      "> \n",
      ">What you post then is supposed to be an answer, but I don't see what is has\n",
      ">got to do with what I say.\n",
      "> \n",
      ">I will repeat it. Religions as are harm people. And religions don't\n",
      ">converge, they split. Giving more to disagree upon. And there is a lot\n",
      ">of disagreement to whom one should be tolerant or if one should be\n",
      ">tolerant at all.\n",
      "\n",
      "Ideologies also split, giving more to disagree upon, and may also lead\n",
      "to intolerance.  So do you also oppose all ideologies?\n",
      "\n",
      "I don't think your argument is an argument against religion at all, but\n",
      "just points out the weaknesses of human nature.\n",
      "\n",
      ">(Big deletion)\n",
      ">>(2) Do women have souls in Islam?\n",
      ">>\n",
      ">>People have said here that some Muslims say that women do not have\n",
      ">>souls.  I must admit I have never heard of such a view being held by\n",
      ">>Muslims of any era.  I have heard of some Christians of some eras\n",
      ">>holding this viewpoint, but not Muslims.  Are you sure you might not be\n",
      ">>confusing Christian history with Islamic history?\n",
      "> \n",
      ">Yes, it is supposed to have been a predominant view in the Turkish\n",
      ">Caliphate.\n",
      "\n",
      "I would like a reference if you have got one, for this is news to me.\n",
      "\n",
      ">>Anyhow, that women are the spiritual equals of men can be clearly shown\n",
      ">>from many verses of the Qur'an.  For example, the Qur'an says:\n",
      ">>\n",
      ">>\"For Muslim men and women, --\n",
      ">>for believing men and women,\n",
      ">>for devout men and women,\n",
      ">>for true men and women,\n",
      ">>for men and women who are patient and constant,\n",
      ">>for men and women who humble themselves,\n",
      ">>for men and women who give in charity,\n",
      ">>for men and women who fast (and deny themselves),\n",
      ">>for men and women who guard their chastity,\n",
      ">>and for men and women who engage much in God's praise --\n",
      ">>For them has God prepared forgiveness and a great reward.\"\n",
      ">>\n",
      ">>[Qur'an 33:35, Abdullah Yusuf Ali's translation]\n",
      ">>\n",
      ">>There are other quotes too, but I think the above quote shows that men\n",
      ">>and women are spiritual equals (and thus, that women have souls just as\n",
      ">>men do) very clearly.\n",
      ">>\n",
      "> \n",
      ">No, it does not. It implies that they have souls, but it does not say they\n",
      ">have souls. And it is not given that the quote above is given a high\n",
      ">priority in all interpretations.\n",
      "\n",
      "One must approach the Qur'an with intelligence.  Any thinking approach\n",
      "to the Qur'an cannot but interpret the above verse and others like it\n",
      "that women and men are spiritual equals.\n",
      "\n",
      "I think that the above verse does clearly imply that women have\n",
      "souls.  Does it make any sense for something without a soul to be\n",
      "forgiven?  Or to have a great reward (understood to be in the\n",
      "after-life)?  I think the usual answer would be no -- in which case, the\n",
      "part saying \"For them has God prepared forgiveness and a great reward\"\n",
      "says they have souls.  \n",
      "\n",
      "(If it makes sense to say that things without souls can be forgiven, then \n",
      "I have no idea _what_ a soul is.)\n",
      "\n",
      "As for your saying that the quote above may not be given a high priority\n",
      "in all interpretations, any thinking approach to the Qur'an has to give\n",
      "all verses of the Qur'an equal priority.  That is because, according to\n",
      "Muslim belief, the _whole_ Qur'an is the revelation of God -- in fact,\n",
      "denying the truth of any part of the Qur'an is sufficient to be\n",
      "considered a disbeliever in Islam.\n",
      "\n",
      ">Quite similar to you other post, even when the Quran does not encourage\n",
      ">slavery, it is not justified to say that iit forbids or puts an end to\n",
      ">slavery. It is a non sequitur.\n",
      "\n",
      "Look, any approach to the Qur'an must be done with intelligence and\n",
      "thought.  It is in this fashion that one can try to understand the\n",
      "Quran's message.  In a book of finite length, it cannot explicitly\n",
      "answer every question you want to put to it, but through its teachings\n",
      "it can guide you.  I think, however, that women are the spiritual equals\n",
      "of men is clearly and unambiguously implied in the above verse, and that\n",
      "since women can clearly be \"forgiven\" and \"rewarded\" they _must_ have\n",
      "souls (from the above verse).\n",
      "\n",
      "Let's try to understand what the Qur'an is trying to teach, rather than\n",
      "try to see how many ways it can be misinterpreted by ignoring this\n",
      "passage or that passage.  The misinterpretations of the Qur'an based on\n",
      "ignoring this verse or that verse are infinite, but the interpretations \n",
      "fully consistent are more limited.  Let's try to discuss these\n",
      "interpretations consistent with the text rather than how people can\n",
      "ignore this bit or that bit, for that is just showing how people can try\n",
      "to twist Islam for their own ends -- something I do not deny -- but\n",
      "provides no reflection on the true teachings of Islam whatsoever.\n",
      "\n",
      " Fred Rice\n",
      " darice@yoyo.cc.monash.edu.au   \n",
      "\n"
     ]
    }
   ],
   "source": [
    "# Isoler et subset af dataen og print det\n",
    "group_alt_atheism = fetch_20newsgroups(subset='train', categories=[\"alt.atheism\"])\n",
    "\n",
    "print(\"Antal dokumenter i kategorien 'comp.graphics':\", len(group_alt_atheism.data))\n",
    "print(\"Kategorier:\", group_alt_atheism.target_names)\n",
    "\n",
    "\n",
    "print(\"\\n\".join(group_alt_atheism.data[0].split(\"\\n\")[:500]))"
   ]
  },
  {
   "cell_type": "code",
   "execution_count": 133,
   "metadata": {},
   "outputs": [
    {
     "data": {
      "text/plain": [
       "0.0020964360587002098"
      ]
     },
     "execution_count": 133,
     "metadata": {},
     "output_type": "execute_result"
    }
   ],
   "source": [
    "#TF = Term Frequency\n",
    "#TF måler hvor ofte et ord forekommer i et dokument, som vil give en ide om, hvor vigtigt et ord er i netop dette dokument\n",
    "\n",
    "#Funktion til at tælle antal af et ord i et dokument\n",
    "def antal_af_et_specifikt_ord(søgeord, dokument):\n",
    "\n",
    "    #Fjerner kommaer og punktummer og andre tegn fra dokumentet\n",
    "    dokument = dokument.replace(\",\", \"\").replace(\".\", \"\").replace(\"!\", \"\").replace(\"?\", \"\").replace(\"(\", \"\").replace(\")\", \"\").replace(\"'\", \"\").replace(\"_\", \"\").replace(\"-\", \"\")\n",
    "\n",
    "    #Laver alt om til små bogstaver\n",
    "    dokument = dokument.lower()\n",
    "\n",
    "    antal = 0\n",
    "\n",
    "    for ord in dokument.split():\n",
    "        if ord == søgeord:\n",
    "            antal += 1\n",
    "    \n",
    "    return antal\n",
    "\n",
    "def total_antal_af_ord(dokument):\n",
    "    #Fjerner kommaer og punktummer og andre tegn fra dokumentet\n",
    "    dokument = dokument.replace(\",\", \"\").replace(\".\", \"\").replace(\"!\", \"\").replace(\"?\", \"\").replace(\"(\", \"\").replace(\")\", \"\").replace(\"'\", \"\").replace(\"_\", \"\").replace(\"-\", \"\")\n",
    "    return len(dokument.split())\n",
    "\n",
    "#Funktion til at finde TF\n",
    "def term_frequency(søgeord, dokument):\n",
    "    return antal_af_et_specifikt_ord(søgeord, dokument) / total_antal_af_ord(dokument)\n",
    "\n",
    "term_frequency(\"intelligence\", group_alt_atheism.data[0])"
   ]
  },
  {
   "cell_type": "code",
   "execution_count": 129,
   "metadata": {},
   "outputs": [],
   "source": [
    "#Kategorierne vi vil træne vores model på\n",
    "categories = ['alt.atheism', 'soc.religion.christian','comp.graphics', 'sci.med']\n",
    "\n",
    "#Henter dataen\n",
    "twenty_train = fetch_20newsgroups(subset='train',\n",
    "categories=categories, shuffle=True, random_state=42)"
   ]
  },
  {
   "cell_type": "code",
   "execution_count": 130,
   "metadata": {},
   "outputs": [
    {
     "name": "stdout",
     "output_type": "stream",
     "text": [
      "352\n"
     ]
    }
   ],
   "source": [
    "#IDF = Inverse Document Frequency\n",
    "#IDF måler hvor vigtigt et ord er i en samling af dokumenter\n",
    "\n",
    "#Funktion til at finde antal af dokumenter et ord forekommer i\n",
    "def antal_af_dokumenter_med_et_specifikt_ord(søgeord, categories):\n",
    "    antal = 0\n",
    "    for category in categories:\n",
    "        for dokument in fetch_20newsgroups(subset='train', categories=[category]).data:\n",
    "            if søgeord in dokument:\n",
    "                antal += 1\n",
    "    return antal\n",
    "\n",
    "print(antal_af_dokumenter_med_et_specifikt_ord(\"help\", categories))"
   ]
  },
  {
   "cell_type": "code",
   "execution_count": 111,
   "metadata": {},
   "outputs": [
    {
     "name": "stdout",
     "output_type": "stream",
     "text": [
      "From: sd345@city.ac.uk (Michael Collier)\n",
      "Subject: Converting images to HP LaserJet III?\n",
      "Nntp-Posting-Host: hampton\n",
      "Organization: The City University\n",
      "Lines: 14\n",
      "\n",
      "Does anyone know of a good way (standard PC application/PD utility) to\n",
      "convert tif/img/tga files into LaserJet III format.  We would also like to\n",
      "do the same, converting to HPGL (HP plotter) files.\n",
      "\n",
      "Please email any response.\n",
      "\n",
      "Is this the correct group?\n",
      "\n",
      "Thanks in advance.  Michael.\n",
      "-- \n",
      "Michael Collier (Programmer)                 The Computer Unit,\n",
      "Email: M.P.Collier@uk.ac.city                The City University,\n",
      "Tel: 071 477-8000 x3769                      London,\n",
      "Fax: 071 477-8565                            EC1V 0HB.\n",
      "\n"
     ]
    }
   ],
   "source": [
    "print(twenty_train.data[0])"
   ]
  }
 ],
 "metadata": {
  "kernelspec": {
   "display_name": "Python 3",
   "language": "python",
   "name": "python3"
  },
  "language_info": {
   "codemirror_mode": {
    "name": "ipython",
    "version": 3
   },
   "file_extension": ".py",
   "mimetype": "text/x-python",
   "name": "python",
   "nbconvert_exporter": "python",
   "pygments_lexer": "ipython3",
   "version": "3.13.1"
  }
 },
 "nbformat": 4,
 "nbformat_minor": 2
}
