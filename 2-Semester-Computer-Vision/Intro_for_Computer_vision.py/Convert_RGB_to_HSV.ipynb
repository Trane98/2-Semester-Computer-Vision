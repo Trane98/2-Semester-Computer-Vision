{
 "cells": [
  {
   "cell_type": "code",
   "execution_count": 1,
   "metadata": {},
   "outputs": [],
   "source": [
    "import cv2\n",
    "import numpy as np\n",
    "\n",
    "image = cv2.imread(\"fruits.jpg\")\n",
    "cv2.imshow(\"image\", image)\n",
    "cv2.waitKey(0)\n",
    "cv2.destroyAllWindows()"
   ]
  },
  {
   "cell_type": "code",
   "execution_count": 10,
   "metadata": {},
   "outputs": [],
   "source": [
    "hsv = cv2.cvtColor(image, cv2.COLOR_BGR2HSV)\n",
    "cv2.imshow(\"hsv\", hsv)\n",
    "cv2.waitKey(0)\n",
    "cv2.destroyAllWindows()\n",
    "# The reason why the image looks so weird when shown as an image is because the-\n",
    "# hue value is not in the proper range, så instead of white, it will show red. "
   ]
  },
  {
   "cell_type": "code",
   "execution_count": 11,
   "metadata": {},
   "outputs": [],
   "source": [
    "h, s, v = cv2.split(hsv)\n",
    "\n",
    "cv2.imshow(\"Hue\", h)  # Viser farvetone\n",
    "cv2.imshow(\"Saturation\", s)  # Viser mætning\n",
    "cv2.imshow(\"Value\", v)  # Viser lysstyrke\n",
    "\n",
    "cv2.waitKey(0)\n",
    "cv2.destroyAllWindows()\n"
   ]
  },
  {
   "cell_type": "code",
   "execution_count": 12,
   "metadata": {},
   "outputs": [
    {
     "name": "stdout",
     "output_type": "stream",
     "text": [
      "Here is hue [[100 100 100 ... 100 100 100]\n",
      " [100 100 100 ... 100 100 100]\n",
      " [100 100 100 ... 100 100 100]\n",
      " ...\n",
      " [100 100 100 ... 100 100 100]\n",
      " [100 100 100 ... 100 100 100]\n",
      " [100 100 100 ... 100 100 100]]\n",
      "Here is saturation [[78 78 78 ... 76 76 76]\n",
      " [78 78 78 ... 76 76 76]\n",
      " [78 78 78 ... 76 76 76]\n",
      " ...\n",
      " [89 89 89 ... 82 82 82]\n",
      " [89 89 89 ... 82 82 82]\n",
      " [89 89 89 ... 82 82 82]]\n",
      "Here is value [[229 229 229 ... 236 236 236]\n",
      " [229 229 229 ... 236 236 236]\n",
      " [229 229 229 ... 236 236 236]\n",
      " ...\n",
      " [224 224 224 ... 222 222 222]\n",
      " [224 224 224 ... 222 222 222]\n",
      " [224 224 224 ... 222 222 222]]\n"
     ]
    }
   ],
   "source": [
    "print(f\"Here is hue {h}\")\n",
    "print(f\"Here is saturation {s}\")\n",
    "print(f\"Here is value {v}\")"
   ]
  },
  {
   "cell_type": "code",
   "execution_count": 13,
   "metadata": {},
   "outputs": [],
   "source": [
    "# Opret en farvevisualisering af Hue-kanalen\n",
    "hue_colored = cv2.merge([h, np.full_like(h, 255), np.full_like(h, 255)])\n",
    "hue_colored = cv2.cvtColor(hue_colored, cv2.COLOR_HSV2BGR)\n",
    "\n",
    "cv2.imshow(\"Hue (colored)\", hue_colored)\n",
    "cv2.imshow(\"Saturation (grayscale)\", s)\n",
    "cv2.imshow(\"Value (grayscale)\", v)\n",
    "\n",
    "cv2.waitKey(0)\n",
    "cv2.destroyAllWindows()\n"
   ]
  },
  {
   "cell_type": "code",
   "execution_count": 14,
   "metadata": {},
   "outputs": [
    {
     "data": {
      "text/plain": [
       "True"
      ]
     },
     "execution_count": 14,
     "metadata": {},
     "output_type": "execute_result"
    }
   ],
   "source": [
    "# Gem billedet som en HSV-fil\n",
    "cv2.imwrite(\"fruits_hsv.jpg\", hsv)"
   ]
  }
 ],
 "metadata": {
  "kernelspec": {
   "display_name": "Python 3",
   "language": "python",
   "name": "python3"
  },
  "language_info": {
   "codemirror_mode": {
    "name": "ipython",
    "version": 3
   },
   "file_extension": ".py",
   "mimetype": "text/x-python",
   "name": "python",
   "nbconvert_exporter": "python",
   "pygments_lexer": "ipython3",
   "version": "3.13.1"
  }
 },
 "nbformat": 4,
 "nbformat_minor": 2
}
